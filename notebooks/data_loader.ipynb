{
 "cells": [
  {
   "cell_type": "markdown",
   "metadata": {},
   "source": [
    "# Load Datasets"
   ]
  },
  {
   "cell_type": "code",
   "execution_count": null,
   "metadata": {},
   "outputs": [],
   "source": [
    "! pip install -q kaggle\n",
    "! mkdir ~/.kaggle\n",
    "! cp kaggle.json ~/.kaggle/\n",
    "! chmod 600 ~/.kaggle/kaggle.json\n",
    "\n",
    "! kaggle datasets download -d frasergreenlee/python-state-changes\n",
    "! unzip \"python-state-changes.zip\"\n",
    "\n",
    "! kaggle datasets download -d manwithaflower/gsm8k-dataset\n",
    "! unzip \"gsm8k-dataset.zip\""
   ]
  },
  {
   "cell_type": "code",
   "execution_count": 1,
   "metadata": {},
   "outputs": [],
   "source": [
    "# convert txt to jaon format for training\n",
    "import json\n",
    "\n",
    "\n",
    "def process_file(input_file_path, output_file_path):\n",
    "    \"\"\"some formatting issues in kaggle dataset. this fixes it.\"\"\"\n",
    "    with open(input_file_path, \"r\") as file:\n",
    "        lines = file.readlines()\n",
    "\n",
    "    processed_lines = []\n",
    "    for i, line in enumerate(lines):\n",
    "        if not line.startswith(\"state:\") and i > 0:\n",
    "            processed_lines[-1] = processed_lines[-1].strip() + \" \"\n",
    "        processed_lines.append(line)\n",
    "\n",
    "    with open(output_file_path, \"w\") as file:\n",
    "        file.writelines(processed_lines)\n",
    "\n",
    "\n",
    "def convert_txt_to_json(txt_file_path, json_file_path):\n",
    "    with open(txt_file_path, \"r\") as txt_file:\n",
    "        lines = txt_file.readlines()\n",
    "        data = []\n",
    "        example = 0\n",
    "        for line in lines:\n",
    "            if (\n",
    "                line == \"\\n\"\n",
    "            ):  # first line is a newline, so skip. probably a better way to do this...\n",
    "                continue\n",
    "            # print(line.split(\"; output:\"))\n",
    "            # return\n",
    "            state_code, output = line.split(\"; output:\")\n",
    "            output = output.strip()\n",
    "            input_text = state_code.strip()\n",
    "            data.append(\n",
    "                {\"input\": input_text, \"output\": output, \"example\": example},\n",
    "            )\n",
    "            example += 1\n",
    "\n",
    "    with open(json_file_path, \"w\") as json_file:\n",
    "        json.dump(data, json_file, indent=4)\n",
    "\n",
    "\n",
    "# Specify the paths for your TXT and JSON files\n",
    "# TODO convert this to absolute filepaths if necessary\n",
    "txt_file_path = \"./new_all_states.txt\"\n",
    "txt_file_path2 = \"./new_all_states_clean.txt\"\n",
    "json_file_path = \"./python_states_singleline.json\"\n",
    "\n",
    "process_file(txt_file_path, txt_file_path2)\n",
    "convert_txt_to_json(txt_file_path2, json_file_path)"
   ]
  },
  {
   "cell_type": "code",
   "execution_count": null,
   "metadata": {},
   "outputs": [],
   "source": []
  }
 ],
 "metadata": {
  "kernelspec": {
   "display_name": "torch",
   "language": "python",
   "name": "python3"
  },
  "language_info": {
   "codemirror_mode": {
    "name": "ipython",
    "version": 3
   },
   "file_extension": ".py",
   "mimetype": "text/x-python",
   "name": "python",
   "nbconvert_exporter": "python",
   "pygments_lexer": "ipython3",
   "version": "3.11.8"
  }
 },
 "nbformat": 4,
 "nbformat_minor": 2
}
